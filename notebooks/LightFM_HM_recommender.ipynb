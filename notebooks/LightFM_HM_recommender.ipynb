{
 "cells": [
  {
   "cell_type": "markdown",
   "id": "06df37c8",
   "metadata": {},
   "source": [
    "# Lab Session: Building a Recommender System with LightFM\n",
    "\n",
    "Lab Session: Building a Recommender System with LightFM\n",
    "\n",
    "## Overview\n",
    "\n",
    "In this lab session, we will go through the entire pipeline of building a recommender system. We will use the [H&M dataset released in a Kaggle competition](https://www.kaggle.com/c/h-and-m-personalized-fashion-recommendations) and the [LightFM library](https://making.lyst.com/lightfm/docs/home.html). The session will cover data analysis, data sampling, model training, hyperparameter tuning, evaluation, and hybrid recommendation incorporating item features.\n",
    "\n",
    "**Project Data** : [Available on Google Drive](https://drive.google.com/drive/folders/1Y7SJnwZp1KZxfYF64PqIM8drlQqJKezw)\n",
    "\n",
    "## Dataset\n",
    "\n",
    "Download the [H&M dataset from the Kaggle competition page](https://www.kaggle.com/c/h-and-m-personalized-fashion-recommendations), or use the data available in the gdrive folder.\n",
    "\n",
    "### Files needed\n",
    "\n",
    "- transactions_train.csv\n",
    "- articles.csv\n",
    "- customers.csv\n",
    "\n",
    "## Introduction to LightFM\n",
    "\n",
    "### What is LightFM ?\n",
    "\n",
    "LightFM is a Python library designed for building and evaluating recommender systems. It is particularly well-suited for handling hybrid recommendation scenarios that combine collaborative filtering with content-based methods. LightFM is known for its flexibility, allowing you to incorporate user and item metadata into the recommendation process, which can significantly improve the accuracy of your recommendations.\n",
    "\n",
    "### Key Features of LightFM\n",
    "\n",
    "1.\tFlexible Hybrid Models: LightFM allows for the combination of collaborative and content-based filtering by integrating item and user features.\n",
    "2.\tDifferent Loss Functions: LightFM supports several loss functions for training models, including:\n",
    "    - WARP (Weighted Approximate-Rank Pairwise): Optimizes for ranking quality, suitable for implicit feedback data.\n",
    "    - BPR (Bayesian Personalized Ranking): Optimizes for pairwise ranking, commonly used in implicit feedback scenarios.\n",
    "    - Logistic: Suitable for explicit feedback.\n",
    "    - WARP-kos: A variant of WARP for use with highly sparse datasets.\n",
    "3.\tScalability: Designed to efficiently handle large datasets.\n",
    "4.\tEase of Use: Provides a simple and intuitive API for model training and evaluation.\n",
    "\n",
    "### Components of a LightFM Model\n",
    "\n",
    "1.\tInteractions Matrix: Represents user-item interactions. In our case, it will be a sparse matrix where rows represent users and columns represent items, and the values represent interactions (e.g., purchases).\n",
    "2.\tUser and Item Features: Optional matrices that include additional information about users and items. For this lab, we will incorporate item features to build a hybrid model.\n",
    "3.\tLoss Function: Defines how the model is trained. We will experiment with different loss functions to optimize our recommendations.\n",
    "\n",
    "## Step-by-Step Guide\n",
    "\n",
    "## Step 0 : Loading libraries and data"
   ]
  },
  {
   "cell_type": "code",
   "execution_count": 1,
   "id": "8e0b5ae6",
   "metadata": {},
   "outputs": [],
   "source": [
    "from pathlib import Path\n",
    "\n",
    "import matplotlib.pyplot as plt\n",
    "import pandas as pd"
   ]
  },
  {
   "cell_type": "code",
   "execution_count": 2,
   "id": "9fb22f04",
   "metadata": {},
   "outputs": [
    {
     "name": "stdout",
     "output_type": "stream",
     "text": [
      "Loading datasets...\n",
      "articles loaded from: /home/aurelien/workspace/building-recommender-with-lightfm/data/raw/articles.csv\n",
      "customers loaded from: /home/aurelien/workspace/building-recommender-with-lightfm/data/raw/customers.csv\n",
      "transactions loaded from: /home/aurelien/workspace/building-recommender-with-lightfm/data/raw/transactions_train.csv\n",
      "Datasets loaded successfully.\n",
      "\n"
     ]
    }
   ],
   "source": [
    "# Define local paths\n",
    "local_articles_path = Path(\"../data/raw/articles.csv\").resolve()\n",
    "local_customers_path = Path(\"../data/raw/customers.csv\").resolve()\n",
    "local_transactions_path = Path(\"../data/raw/transactions_train.csv\").resolve()\n",
    "\n",
    "# Remote URLs (GitHub)\n",
    "# Fetch data from Kaggle (make sure you have access rights)\n",
    "articles_url = \"https://media.githubusercontent.com/media/auduvignac/\" \"...\"\n",
    "customers_url = \"https://media.githubusercontent.com/media/auduvignac/\" \"...\"\n",
    "transactions_url = (\n",
    "    \"https://media.githubusercontent.com/media/auduvignac/\" \"...\"\n",
    ")\n",
    "\n",
    "\n",
    "def load_dataset(local_path, url, name):\n",
    "    \"\"\"\n",
    "    Loads a CSV file from a local path, or downloads it from a URL\n",
    "    if the file does not exist locally.\n",
    "\n",
    "    The file is then saved locally for future runs (fallback).\n",
    "\n",
    "    Parameters\n",
    "    ----------\n",
    "    local_path : pathlib.Path\n",
    "        Path to the local file.\n",
    "    url : str\n",
    "        Remote URL of the CSV file.\n",
    "    name : str\n",
    "        Display name shown during loading (used for logging).\n",
    "\n",
    "    Returns\n",
    "    -------\n",
    "    pandas.DataFrame\n",
    "        The contents of the CSV file as a DataFrame.\n",
    "    \"\"\"\n",
    "    # Check if the local file exists\n",
    "    if local_path.exists():\n",
    "        print(f\"{name} loaded from: {local_path}\")\n",
    "        return pd.read_csv(local_path)\n",
    "    else:\n",
    "        print(f\"{name} not found locally, downloading from URL...\")\n",
    "        df = pd.read_csv(url)\n",
    "        local_path.parent.mkdir(parents=True, exist_ok=True)\n",
    "        df.to_csv(local_path, index=False)\n",
    "        print(f\"{name} downloaded and saved locally at: {local_path}\")\n",
    "        return df\n",
    "\n",
    "\n",
    "# Load datasets\n",
    "try:\n",
    "    print(\"Loading datasets...\")\n",
    "    articles = load_dataset(local_articles_path, articles_url, \"articles\")\n",
    "    customers = load_dataset(local_customers_path, customers_url, \"customers\")\n",
    "    transactions = load_dataset(\n",
    "        local_transactions_path, transactions_url, \"transactions\"\n",
    "    )\n",
    "    print(\"Datasets loaded successfully.\\n\")\n",
    "\n",
    "except Exception as e:\n",
    "    print(\"Failed to load datasets.\")\n",
    "    print(\"Check the validity of the URLs or your internet connection.\")\n",
    "    print(e)"
   ]
  },
  {
   "cell_type": "markdown",
   "id": "d0221c00",
   "metadata": {},
   "source": [
    "## Step 1: Data Exploration & Understanding\n",
    "\n",
    "Objective: Get familiar with the H&M dataset structure and characteristics.\n",
    "\n",
    "### What does the interaction data look like ? How many unique users and items do we have ?"
   ]
  },
  {
   "cell_type": "code",
   "execution_count": 3,
   "id": "52c8e42b",
   "metadata": {},
   "outputs": [
    {
     "name": "stdout",
     "output_type": "stream",
     "text": [
      "Number of unique users: 1362281\n",
      "Number of unique items: 104547\n"
     ]
    }
   ],
   "source": [
    "# Count unique users and unique items\n",
    "num_unique_users = transactions['customer_id'].nunique()\n",
    "num_unique_items = transactions['article_id'].nunique()\n",
    "\n",
    "print(f\"Number of unique users: {num_unique_users}\")\n",
    "print(f\"Number of unique items: {num_unique_items}\")"
   ]
  },
  {
   "cell_type": "markdown",
   "id": "58371ef7",
   "metadata": {},
   "source": [
    "### What's the sparsity of the dataset ? (Compare total possible interactions vs actual interactions)\n",
    "\n",
    "#### Sparsity\n",
    "\n",
    "**Sparsity** refers to how few interactions exist compared to the total number of possible interactions between users and items.\n",
    "\n",
    "In the context of this dataset:\n",
    "\n",
    "> **Sparsity = 1 − (Number of actual interactions) / (Number of possible interactions)**\n",
    "\n",
    "Where:\n",
    "- **Actual interactions**: total number of rows in `transactions_train.csv`  \n",
    "- **Possible interactions**: number of unique users $\\times$ number of unique items\n",
    "\n",
    "A high sparsity (close to 1) means that most users have interacted with only a small fraction of the available items — which is typical in real-world recommendation scenarios.\n",
    "\n",
    "Understanding sparsity is important because:\n",
    "- It highlights the challenge of limited interaction data.\n",
    "- It justifies the use of models like **LightFM**, which are designed to work well with sparse user–item matrices."
   ]
  },
  {
   "cell_type": "code",
   "execution_count": null,
   "id": "e4036eb3",
   "metadata": {},
   "outputs": [
    {
     "name": "stdout",
     "output_type": "stream",
     "text": [
      "Unique users: 1362281\n",
      "Unique items: 104547\n",
      "Actual interactions: 31788324\n",
      "Total possible interactions: 142422391707\n",
      "Dataset sparsity: 0.999777\n"
     ]
    }
   ],
   "source": [
    "# Actual interactions\n",
    "num_interactions = len(transactions)\n",
    "\n",
    "# Total possible interactions\n",
    "# num_unique_users number of unique users\n",
    "# num_unique_items number of unique items\n",
    "# total_possible_interactions = num_unique_users * num_unique_items\n",
    "# This assumes each user could potentially interact with every item.\n",
    "# In practice, this is often much larger than the actual number of interactions.\n",
    "total_possible_interactions = num_unique_users * num_unique_items\n",
    "\n",
    "# Sparsity\n",
    "sparsity = 1 - (num_interactions / total_possible_interactions)\n",
    "\n",
    "print(f\"Unique users: {num_unique_users}\")\n",
    "print(f\"Unique items: {num_unique_items}\")\n",
    "print(f\"Actual interactions: {num_interactions}\")\n",
    "print(f\"Total possible interactions: {total_possible_interactions}\")\n",
    "print(f\"Dataset sparsity: {sparsity:.6f}\")"
   ]
  },
  {
   "cell_type": "markdown",
   "id": "20b078e7",
   "metadata": {},
   "source": [
    "#### Sparsity Analysis\n",
    "\n",
    "- **Unique users**: 1 362 281  \n",
    "- **Unique items**: 104 547  \n",
    "- **Actual interactions**: 31 788 324  \n",
    "- **Total possible interactions** (users $\\times$ items): 142 422 391 707  \n",
    "- **Dataset sparsity**: **0.999777** ($\\approx$ 99.98%)\n",
    "\n",
    "#### Interpretation\n",
    "\n",
    "This dataset is **extremely sparse**, with only about **0.022%** of possible user–item interactions actually observed.\n",
    "\n",
    "#### Explanation and hypothesis\n",
    "\n",
    "- In real-world e-commerce, users interact with **only a tiny fraction** of the catalog ;\n",
    "- Most users buy a handful of items, and many items are **never interacted with** by the majority of users.\n",
    "\n",
    "#### Implications for modeling:\n",
    "- Traditional recommendation models (e.g., matrix factorization) may struggle without techniques to handle sparsity.\n",
    "- **LightFM** is a good fit because it can incorporate:\n",
    "  - **Collaborative filtering** (based on interactions)\n",
    "  - **Content-based features** (like item metadata)\n",
    "- Cold-start problems are likely present, especially for new or rare items.\n"
   ]
  },
  {
   "cell_type": "markdown",
   "id": "1b51e53b",
   "metadata": {},
   "source": [
    "### How are interactions distributed across users and items ? Are there power users or blockbuster items ?"
   ]
  },
  {
   "cell_type": "code",
   "execution_count": 5,
   "id": "bb562f10",
   "metadata": {},
   "outputs": [
    {
     "data": {
      "image/png": "[encoded data removed]",
      "text/plain": [
       "<Figure size 1200x500 with 2 Axes>"
      ]
     },
     "metadata": {},
     "output_type": "display_data"
    }
   ],
   "source": [
    "# Count interactions per user and per item\n",
    "user_interactions = transactions['customer_id'].value_counts()\n",
    "item_interactions = transactions['article_id'].value_counts()\n",
    "\n",
    "# Plot interaction distributions\n",
    "plt.figure(figsize=(12, 5))\n",
    "\n",
    "# User interactions\n",
    "plt.subplot(1, 2, 1)\n",
    "plt.hist(user_interactions, bins=100, log=True)\n",
    "plt.title(\"Distribution of Interactions per User\")\n",
    "plt.xlabel(\"Number of interactions\")\n",
    "plt.ylabel(\"Number of users (log scale)\")\n",
    "\n",
    "# Item interactions\n",
    "plt.subplot(1, 2, 2)\n",
    "plt.hist(item_interactions, bins=100, log=True)\n",
    "plt.title(\"Distribution of Interactions per Item\")\n",
    "plt.xlabel(\"Number of interactions\")\n",
    "plt.ylabel(\"Number of items (log scale)\")\n",
    "\n",
    "plt.tight_layout()\n",
    "plt.show()"
   ]
  },
  {
   "cell_type": "markdown",
   "id": "b7d00a07",
   "metadata": {},
   "source": [
    "#### Interaction Distribution Analysis\n",
    "\n",
    "The histograms above show how interactions are distributed across users and items, on a log scale:\n",
    "\n",
    "##### Distribution per User (Left Plot)\n",
    "\n",
    "- The vast majority of users have **very few interactions** — most made only a handful of purchases.\n",
    "- A **long tail of power users** exists: a small number of users made **hundreds or even thousands** of purchases.\n",
    "- This right-skewed pattern is typical in e-commerce datasets.\n",
    "\n",
    "##### Distribution per Item (Right Plot)\n",
    "\n",
    "- Similarly, most items were purchased **only a few times**.\n",
    "- A small number of **blockbuster items** were purchased tens of thousands of times.\n",
    "- These likely represent **best-sellers**, seasonal items, or heavily promoted products.\n",
    "\n",
    "##### Implications\n",
    "\n",
    "- The dataset exhibits a **strong long-tail behavior** for both users and items.\n",
    "- **Collaborative filtering alone** may over-focus on power users and popular items.\n",
    "- Including **item features** (e.g., product type, category, color) in a **hybrid model** is recommended to improve diversity and personalization.\n"
   ]
  },
  {
   "cell_type": "markdown",
   "id": "66c06ce5",
   "metadata": {},
   "source": [
    "- What time period does the data cover? Are there seasonal patterns?\n",
    "- What metadata is available for items and customers ?\n",
    "\n",
    "Suggested Analyses:\n",
    "- Plot distribution of interactions per user and per item (histograms, box plots)\n",
    "- Identify the long tail: what percentage of items/users account for 80% of interactions ?\n",
    "- Examine the most and least popular items - what patterns do you notice ?\n",
    "- Think about: How might these patterns affect your recommendation strategy ?"
   ]
  }
 ],
 "metadata": {
  "kernelspec": {
   "display_name": "venv",
   "language": "python",
   "name": "python3"
  },
  "language_info": {
   "codemirror_mode": {
    "name": "ipython",
    "version": 3
   },
   "file_extension": ".py",
   "mimetype": "text/x-python",
   "name": "python",
   "nbconvert_exporter": "python",
   "pygments_lexer": "ipython3",
   "version": "3.10.12"
  }
 },
 "nbformat": 4,
 "nbformat_minor": 5
}
